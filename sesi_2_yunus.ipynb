{
 "cells": [
  {
   "cell_type": "code",
   "execution_count": 1,
   "metadata": {},
   "outputs": [
    {
     "data": {
      "text/plain": [
       "2"
      ]
     },
     "execution_count": 1,
     "metadata": {},
     "output_type": "execute_result"
    }
   ],
   "source": [
    "1+1 "
   ]
  },
  {
   "cell_type": "markdown",
   "metadata": {},
   "source": [
    "# Heading\n",
    "\n",
    "## Subheading\n",
    "\n",
    "### title\n",
    "\n",
    "**Bold**\n",
    "\n",
    "*Italic*\n",
    "\n",
    "```sql\n",
    "select * from table_1\n",
    "```\n",
    "\n",
    "`select * from table_1`"
   ]
  },
  {
   "cell_type": "markdown",
   "metadata": {},
   "source": []
  },
  {
   "cell_type": "code",
   "execution_count": 1,
   "metadata": {},
   "outputs": [
    {
     "name": "stdout",
     "output_type": "stream",
     "text": [
      "124\n"
     ]
    }
   ],
   "source": [
    "print(123+1)"
   ]
  },
  {
   "cell_type": "code",
   "execution_count": 2,
   "metadata": {},
   "outputs": [
    {
     "data": {
      "text/plain": [
       "int"
      ]
     },
     "execution_count": 2,
     "metadata": {},
     "output_type": "execute_result"
    }
   ],
   "source": [
    "type(4)"
   ]
  },
  {
   "cell_type": "code",
   "execution_count": 3,
   "metadata": {},
   "outputs": [
    {
     "data": {
      "text/plain": [
       "float"
      ]
     },
     "execution_count": 3,
     "metadata": {},
     "output_type": "execute_result"
    }
   ],
   "source": [
    "type(4.2)"
   ]
  },
  {
   "cell_type": "code",
   "execution_count": 4,
   "metadata": {},
   "outputs": [
    {
     "data": {
      "text/plain": [
       "str"
      ]
     },
     "execution_count": 4,
     "metadata": {},
     "output_type": "execute_result"
    }
   ],
   "source": [
    "type('HelloWorld')"
   ]
  },
  {
   "cell_type": "code",
   "execution_count": 5,
   "metadata": {},
   "outputs": [
    {
     "data": {
      "text/plain": [
       "bool"
      ]
     },
     "execution_count": 5,
     "metadata": {},
     "output_type": "execute_result"
    }
   ],
   "source": [
    "type(True)"
   ]
  },
  {
   "cell_type": "markdown",
   "metadata": {},
   "source": [
    "Kusus string"
   ]
  },
  {
   "cell_type": "code",
   "execution_count": null,
   "metadata": {},
   "outputs": [],
   "source": [
    "print()"
   ]
  },
  {
   "cell_type": "markdown",
   "metadata": {},
   "source": [
    "`` ini petik\n",
    "\n",
    "'' ini single quote/kutip\n",
    "\n",
    "\"\" ini double quote/kutip\n",
    "\n",
    "~  ini cacing"
   ]
  },
  {
   "cell_type": "code",
   "execution_count": 9,
   "metadata": {},
   "outputs": [
    {
     "name": "stdout",
     "output_type": "stream",
     "text": [
      "Hello World\n"
     ]
    }
   ],
   "source": [
    "print(\"Hello World\")"
   ]
  },
  {
   "cell_type": "code",
   "execution_count": 10,
   "metadata": {},
   "outputs": [
    {
     "data": {
      "text/plain": [
       "5"
      ]
     },
     "execution_count": 10,
     "metadata": {},
     "output_type": "execute_result"
    }
   ],
   "source": [
    "2+3"
   ]
  },
  {
   "cell_type": "code",
   "execution_count": 11,
   "metadata": {},
   "outputs": [],
   "source": [
    "a = 2\n",
    "b = 3"
   ]
  },
  {
   "cell_type": "code",
   "execution_count": 16,
   "metadata": {},
   "outputs": [
    {
     "name": "stdout",
     "output_type": "stream",
     "text": [
      "Hasil dari penjumlahan 2 + 3 = 5\n"
     ]
    }
   ],
   "source": [
    "print(f'Hasil dari penjumlahan 2 + 3 = {a+b}')"
   ]
  },
  {
   "cell_type": "code",
   "execution_count": 53,
   "metadata": {},
   "outputs": [],
   "source": [
    "a = b = c = 300"
   ]
  },
  {
   "cell_type": "code",
   "execution_count": 4,
   "metadata": {},
   "outputs": [
    {
     "name": "stdout",
     "output_type": "stream",
     "text": [
      "300\n"
     ]
    }
   ],
   "source": [
    "print(a)"
   ]
  },
  {
   "cell_type": "code",
   "execution_count": 5,
   "metadata": {},
   "outputs": [
    {
     "data": {
      "text/plain": [
       "300"
      ]
     },
     "execution_count": 5,
     "metadata": {},
     "output_type": "execute_result"
    }
   ],
   "source": [
    "b"
   ]
  },
  {
   "cell_type": "code",
   "execution_count": 6,
   "metadata": {},
   "outputs": [
    {
     "data": {
      "text/plain": [
       "300"
      ]
     },
     "execution_count": 6,
     "metadata": {},
     "output_type": "execute_result"
    }
   ],
   "source": [
    "c"
   ]
  },
  {
   "cell_type": "code",
   "execution_count": 7,
   "metadata": {},
   "outputs": [],
   "source": [
    "d = a"
   ]
  },
  {
   "cell_type": "code",
   "execution_count": 8,
   "metadata": {},
   "outputs": [
    {
     "data": {
      "text/plain": [
       "300"
      ]
     },
     "execution_count": 8,
     "metadata": {},
     "output_type": "execute_result"
    }
   ],
   "source": [
    "d"
   ]
  },
  {
   "cell_type": "code",
   "execution_count": 2,
   "metadata": {},
   "outputs": [
    {
     "name": "stdout",
     "output_type": "stream",
     "text": [
      "23.5\n"
     ]
    }
   ],
   "source": [
    "var = 23.5\n",
    "print(var)"
   ]
  },
  {
   "cell_type": "code",
   "execution_count": 14,
   "metadata": {},
   "outputs": [
    {
     "name": "stdout",
     "output_type": "stream",
     "text": [
      "23.5\n"
     ]
    }
   ],
   "source": [
    "print(var)"
   ]
  },
  {
   "cell_type": "code",
   "execution_count": 6,
   "metadata": {},
   "outputs": [],
   "source": [
    "abc_123 = 123"
   ]
  },
  {
   "cell_type": "code",
   "execution_count": 5,
   "metadata": {},
   "outputs": [],
   "source": [
    "google_chrome = 123"
   ]
  },
  {
   "cell_type": "code",
   "execution_count": 1,
   "metadata": {},
   "outputs": [],
   "source": [
    "google_chrome = 123"
   ]
  },
  {
   "cell_type": "code",
   "execution_count": 6,
   "metadata": {},
   "outputs": [],
   "source": [
    "f = 10"
   ]
  },
  {
   "cell_type": "code",
   "execution_count": 41,
   "metadata": {},
   "outputs": [],
   "source": [
    "data = [7,11,12,100,1001]"
   ]
  },
  {
   "cell_type": "code",
   "execution_count": 17,
   "metadata": {},
   "outputs": [
    {
     "name": "stdout",
     "output_type": "stream",
     "text": [
      "7 ganjil\n",
      "11 ganjil\n",
      "12 genap\n",
      "100 genap\n",
      "1001 ganjil\n"
     ]
    }
   ],
   "source": [
    "for i in data:\n",
    "    if i % 2 == 0:\n",
    "        print(i,'genap')\n",
    "    elif i % 2 != 0:\n",
    "        print(i,'ganjil')"
   ]
  },
  {
   "cell_type": "code",
   "execution_count": 35,
   "metadata": {},
   "outputs": [],
   "source": [
    "data_2 = 100"
   ]
  },
  {
   "cell_type": "code",
   "execution_count": 44,
   "metadata": {},
   "outputs": [
    {
     "name": "stdout",
     "output_type": "stream",
     "text": [
      "7 : data lebih kecil sama dengan 100\n",
      "11 : data lebih kecil sama dengan 100\n",
      "12 : data lebih kecil sama dengan 100\n",
      "100 : data lebih kecil sama dengan 100\n",
      "1001 = data lebih besar dari 100\n"
     ]
    }
   ],
   "source": [
    "for i in data:\n",
    "    if i <= 100:\n",
    "        print(i,': data lebih kecil sama dengan 100')\n",
    "    if i > 100:\n",
    "        print(i,'= data lebih besar dari 100')"
   ]
  },
  {
   "cell_type": "markdown",
   "metadata": {},
   "source": [
    "'Pilpres 2024'"
   ]
  },
  {
   "cell_type": "code",
   "execution_count": 48,
   "metadata": {},
   "outputs": [],
   "source": [
    "a = 'Yunus'"
   ]
  },
  {
   "cell_type": "code",
   "execution_count": 50,
   "metadata": {},
   "outputs": [
    {
     "data": {
      "text/plain": [
       "'yunus'"
      ]
     },
     "execution_count": 50,
     "metadata": {},
     "output_type": "execute_result"
    }
   ],
   "source": [
    "a.lower()"
   ]
  },
  {
   "cell_type": "code",
   "execution_count": 75,
   "metadata": {},
   "outputs": [],
   "source": [
    "alfabet = ('a','b','c','d','e','f')"
   ]
  },
  {
   "cell_type": "code",
   "execution_count": 76,
   "metadata": {},
   "outputs": [
    {
     "data": {
      "text/plain": [
       "('b', 'd', 'f')"
      ]
     },
     "execution_count": 76,
     "metadata": {},
     "output_type": "execute_result"
    }
   ],
   "source": [
    "alfabet[1 : 6 : 2] # [start : end : step]"
   ]
  },
  {
   "cell_type": "code",
   "execution_count": null,
   "metadata": {},
   "outputs": [],
   "source": []
  },
  {
   "cell_type": "markdown",
   "metadata": {},
   "source": [
    "end akan dikurangi 1.. jadi misalnya [0:2] artinya dimulai dari index 0 dan berakhir di index 1"
   ]
  },
  {
   "cell_type": "markdown",
   "metadata": {},
   "source": [
    "() = tuple (round bracket)\n",
    "\n",
    "[] = list [square bracket]\n",
    "\n",
    "{} = dictionary {kurung kurawal}"
   ]
  },
  {
   "cell_type": "code",
   "execution_count": null,
   "metadata": {},
   "outputs": [],
   "source": []
  },
  {
   "cell_type": "code",
   "execution_count": null,
   "metadata": {},
   "outputs": [],
   "source": []
  },
  {
   "cell_type": "code",
   "execution_count": 5,
   "metadata": {},
   "outputs": [
    {
     "name": "stdout",
     "output_type": "stream",
     "text": [
      "a lebih kecil dari b\n"
     ]
    }
   ],
   "source": [
    "a = 100\n",
    "b = 200\n",
    "\n",
    "if a > b:\n",
    "    print(\"a lebih kecil dari b\")\n",
    "if a < b:\n",
    "    print('a lebih kecil dari b')"
   ]
  },
  {
   "cell_type": "code",
   "execution_count": 8,
   "metadata": {},
   "outputs": [
    {
     "name": "stdout",
     "output_type": "stream",
     "text": [
      "bulan bener\n"
     ]
    }
   ],
   "source": [
    "a = 'januari'\n",
    "b = 'februari'\n",
    "\n",
    "if a != b:\n",
    "    print('bulan bener')\n",
    "else:\n",
    "    print(\"bulan gak bener\")"
   ]
  },
  {
   "cell_type": "code",
   "execution_count": 14,
   "metadata": {},
   "outputs": [],
   "source": [
    "a = 1000\n",
    "b = 1000.0\n",
    "\n",
    "if a == b:\n",
    "    pass #untuk tidak menampilkan apapun\n",
    "else:\n",
    "    print('a tidak sama dengan b')"
   ]
  },
  {
   "cell_type": "code",
   "execution_count": 12,
   "metadata": {},
   "outputs": [
    {
     "name": "stdout",
     "output_type": "stream",
     "text": [
      "print angka ganjil\n"
     ]
    }
   ],
   "source": [
    "a = [1,3,5,7]\n",
    "b = [2,4,6,8]\n",
    "\n",
    "if a != b:\n",
    "    print('print angka ganjil')"
   ]
  },
  {
   "cell_type": "code",
   "execution_count": 21,
   "metadata": {},
   "outputs": [
    {
     "name": "stdout",
     "output_type": "stream",
     "text": [
      "ada\n",
      "ada\n",
      "ada\n",
      "tidak ada\n",
      "tidak ada\n",
      "tidak ada\n"
     ]
    }
   ],
   "source": [
    "nama = 'budi' #valueable\n",
    "usia = 20 #valueable\n",
    "gender = True #valuable\n",
    "alamat = None # unvalueable\n",
    "motor = 0\n",
    "rumah = False \n",
    "\n",
    "if nama:\n",
    "    print('ada')\n",
    "else:\n",
    "    print('tidak ada')\n",
    "\n",
    "if usia:\n",
    "    print('ada')\n",
    "else:\n",
    "    print('tidak ada')\n",
    "\n",
    "if gender:\n",
    "    print('ada')\n",
    "else:\n",
    "    print('tidak ada')\n",
    "\n",
    "if alamat:\n",
    "    print('ada')\n",
    "else:\n",
    "    print('tidak ada')\n",
    "\n",
    "if motor:\n",
    "    print('ada')\n",
    "else:\n",
    "    print('tidak ada')\n",
    "\n",
    "if rumah:\n",
    "    print('ada')\n",
    "else:\n",
    "    print('tidak ada')"
   ]
  },
  {
   "cell_type": "code",
   "execution_count": 23,
   "metadata": {},
   "outputs": [
    {
     "name": "stdout",
     "output_type": "stream",
     "text": [
      "bukan merupakan bagian\n",
      "merupakan bagian\n"
     ]
    }
   ],
   "source": [
    "pendidikan = 'S1'\n",
    "daftar_pendidikan = [\"s1\", \"s2\", \"s2\"]\n",
    "\n",
    "nama = 'Budi'\n",
    "nama_lengkap = 'Budi Kurniawan'\n",
    "\n",
    "if pendidikan in daftar_pendidikan:\n",
    "    print('merupakan bagian') \n",
    "else:\n",
    "    print('bukan merupakan bagian')\n",
    "\n",
    "if nama in nama_lengkap:\n",
    "    print('merupakan bagian')\n",
    "else:\n",
    "    print('bukan merupakan bagian')"
   ]
  },
  {
   "cell_type": "code",
   "execution_count": 25,
   "metadata": {},
   "outputs": [
    {
     "name": "stdout",
     "output_type": "stream",
     "text": [
      "a sama dengan b\n"
     ]
    }
   ],
   "source": [
    "a = 100\n",
    "b = 100\n",
    "\n",
    "if a < b:\n",
    "    print('a grather than b')\n",
    "elif a > b:\n",
    "    print('a grather than b')\n",
    "else:\n",
    "    print(\"a equals to b\")"
   ]
  },
  {
   "cell_type": "code",
   "execution_count": 32,
   "metadata": {},
   "outputs": [
    {
     "name": "stdout",
     "output_type": "stream",
     "text": [
      "buy hong cha\n"
     ]
    }
   ],
   "source": [
    "money = 3000\n",
    "if money >= 15000:\n",
    "    print('buy franchrice')\n",
    "elif money >= 10000:\n",
    "    print('buy ketoprak')\n",
    "elif money >= 5000:\n",
    "    print('buy a pencil')\n",
    "else:\n",
    "    print('buy hong cha')"
   ]
  },
  {
   "cell_type": "markdown",
   "metadata": {},
   "source": [
    "# for loop and while loop"
   ]
  },
  {
   "cell_type": "markdown",
   "metadata": {},
   "source": [
    "### while loop"
   ]
  },
  {
   "cell_type": "markdown",
   "metadata": {},
   "source": [
    "while <condition>\n",
    "     <statement>"
   ]
  },
  {
   "cell_type": "code",
   "execution_count": 33,
   "metadata": {},
   "outputs": [
    {
     "name": "stdout",
     "output_type": "stream",
     "text": [
      "4\n",
      "3\n",
      "2\n",
      "1\n",
      "0\n"
     ]
    }
   ],
   "source": [
    "n = 5\n",
    "while n > 0:\n",
    "    n -= 1 # value of n will be subtracted by 1\n",
    "    print(n)"
   ]
  },
  {
   "cell_type": "markdown",
   "metadata": {},
   "source": [
    "### For Loop"
   ]
  },
  {
   "cell_type": "markdown",
   "metadata": {},
   "source": [
    "syntax:\n",
    "\n",
    "\"for <variable> in <iterable/list>:\"\n",
    "    <statement>"
   ]
  },
  {
   "cell_type": "code",
   "execution_count": 65,
   "metadata": {},
   "outputs": [
    {
     "name": "stdout",
     "output_type": "stream",
     "text": [
      "hello\n",
      "hello\n",
      "hello\n",
      "hello\n",
      "hello\n"
     ]
    }
   ],
   "source": [
    "a = 'hello'\n",
    "# print 5 times\n",
    "\n",
    "#manual 1\n",
    "#print('hello')\n",
    "#print('hello')\n",
    "#print('hello')\n",
    "#print('hello')\n",
    "\n",
    "#manual 2\n",
    "#using while loop\n",
    "i = 1 \n",
    "while i < 6:\n",
    "    print('hello')\n",
    "    i+=1\n",
    "\n",
    "#using for loop\n",
    "#for i in range(5):\n",
    "#    print('hello')"
   ]
  },
  {
   "cell_type": "markdown",
   "metadata": {},
   "source": []
  },
  {
   "cell_type": "code",
   "execution_count": 63,
   "metadata": {},
   "outputs": [
    {
     "name": "stdout",
     "output_type": "stream",
     "text": [
      "1 2 3 4 5 "
     ]
    }
   ],
   "source": [
    "#print 0,1,2,3,4,5\n",
    "#using while loop\n",
    "#i = 1 #start\n",
    "#while i < 6:\n",
    "#    print(i, end=' ')\n",
    "#    i+=1\n",
    "\n",
    "#using for loop\n",
    "#for i in range(6):\n",
    "#    print(i)"
   ]
  },
  {
   "cell_type": "code",
   "execution_count": null,
   "metadata": {},
   "outputs": [],
   "source": []
  }
 ],
 "metadata": {
  "kernelspec": {
   "display_name": "base",
   "language": "python",
   "name": "python3"
  },
  "language_info": {
   "codemirror_mode": {
    "name": "ipython",
    "version": 3
   },
   "file_extension": ".py",
   "mimetype": "text/x-python",
   "name": "python",
   "nbconvert_exporter": "python",
   "pygments_lexer": "ipython3",
   "version": "3.11.7"
  }
 },
 "nbformat": 4,
 "nbformat_minor": 2
}
