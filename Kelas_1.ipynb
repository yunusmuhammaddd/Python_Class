{
 "cells": [
  {
   "cell_type": "code",
   "execution_count": 7,
   "id": "42d0d93d",
   "metadata": {},
   "outputs": [],
   "source": [
    "data = [1,2,3,44,600,10]"
   ]
  },
  {
   "cell_type": "code",
   "execution_count": 18,
   "id": "7f259eaf",
   "metadata": {},
   "outputs": [
    {
     "name": "stdout",
     "output_type": "stream",
     "text": [
      "1 : Higher than 50\n",
      "2 : Higher than 50\n",
      "3 : Higher than 50\n",
      "44 : Higher than 50\n",
      "600 : Lower than 50\n",
      "10 : Higher than 50\n"
     ]
    }
   ],
   "source": [
    "for i in data:\n",
    "    if i >= 50:\n",
    "        print(i, ': Lower than 50')\n",
    "    elif i <= 50:\n",
    "        print(i, ': Higher than 50')"
   ]
  },
  {
   "cell_type": "code",
   "execution_count": null,
   "id": "07b4d43d",
   "metadata": {},
   "outputs": [],
   "source": []
  }
 ],
 "metadata": {
  "kernelspec": {
   "display_name": "Python 3 (ipykernel)",
   "language": "python",
   "name": "python3"
  },
  "language_info": {
   "codemirror_mode": {
    "name": "ipython",
    "version": 3
   },
   "file_extension": ".py",
   "mimetype": "text/x-python",
   "name": "python",
   "nbconvert_exporter": "python",
   "pygments_lexer": "ipython3",
   "version": "3.11.5"
  }
 },
 "nbformat": 4,
 "nbformat_minor": 5
}
