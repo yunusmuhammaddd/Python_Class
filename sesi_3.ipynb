{
 "cells": [
  {
   "cell_type": "code",
   "execution_count": null,
   "metadata": {},
   "outputs": [],
   "source": [
    "hitung_luas = p x l \n",
    "hitung_luas = 10 x 2\n",
    "hitung_luas = 20]"
   ]
  },
  {
   "cell_type": "code",
   "execution_count": null,
   "metadata": {},
   "outputs": [],
   "source": [
    "import pandas as pd \n",
    "import numpy as np\n",
    "import matplotlib.pyplot as plt\n"
   ]
  },
  {
   "cell_type": "code",
   "execution_count": 10,
   "metadata": {},
   "outputs": [
    {
     "data": {
      "text/plain": [
       "20"
      ]
     },
     "execution_count": 10,
     "metadata": {},
     "output_type": "execute_result"
    }
   ],
   "source": [
    "#FUNCTION (Math calculation) uses def and return | luas persegiu panjang\n",
    "def hitung_luas(p,l):\n",
    "    return p*l\n",
    "\n",
    "hitung_luas(10,2)\n"
   ]
  },
  {
   "cell_type": "code",
   "execution_count": 12,
   "metadata": {},
   "outputs": [
    {
     "data": {
      "text/plain": [
       "20"
      ]
     },
     "execution_count": 12,
     "metadata": {},
     "output_type": "execute_result"
    }
   ],
   "source": [
    "#hitung luas lingkaran\n",
    "def luas_lingkaran(pi,r):\n",
    "    return pi*r**2\n",
    "\n",
    "luas_lingkaran(5,2)"
   ]
  },
  {
   "cell_type": "code",
   "execution_count": 15,
   "metadata": {},
   "outputs": [
    {
     "name": "stdout",
     "output_type": "stream",
     "text": [
      " luas lingkaran adalah = 20\n"
     ]
    }
   ],
   "source": [
    "#another way to generate function using def without return\n",
    "def luas_lingkaran(pi,r):\n",
    "    luas = pi*r**2\n",
    "    print(f' luas lingkaran adalah = {luas}')\n",
    "\n",
    "luas_lingkaran(5,2)"
   ]
  },
  {
   "cell_type": "markdown",
   "metadata": {},
   "source": [
    "## Dischare calculation\n",
    "Q = Volume/time \n",
    "Volume = Panjang x Lebar x tinggi\n"
   ]
  },
  {
   "cell_type": "code",
   "execution_count": 21,
   "metadata": {},
   "outputs": [
    {
     "data": {
      "text/plain": [
       "6.0"
      ]
     },
     "execution_count": 21,
     "metadata": {},
     "output_type": "execute_result"
    }
   ],
   "source": [
    "def Discharge(p,l,t,time):\n",
    "    vol= p*l*t\n",
    "    return vol/time\n",
    "Discharge(2,3,4,4)"
   ]
  },
  {
   "cell_type": "code",
   "execution_count": 24,
   "metadata": {},
   "outputs": [
    {
     "data": {
      "text/plain": [
       "12"
      ]
     },
     "execution_count": 24,
     "metadata": {},
     "output_type": "execute_result"
    }
   ],
   "source": [
    "#Anonymous Function using Lambda\n",
    "\n",
    "Volume = lambda p,l,t: p*l*t\n",
    " # if we are gonna use def, it would be:\n",
    "def volume1(p,l,t):\n",
    "    return(p*l*t)\n",
    "volume1(2,2,3)\n"
   ]
  },
  {
   "cell_type": "code",
   "execution_count": null,
   "metadata": {},
   "outputs": [],
   "source": [
    "#Question 1:\n",
    "\n",
    "def tampilkan_plus(n):\n",
    "    if n > 0:\n",
    "        print()"
   ]
  },
  {
   "cell_type": "code",
   "execution_count": null,
   "metadata": {},
   "outputs": [],
   "source": [
    "#Question 2"
   ]
  },
  {
   "cell_type": "code",
   "execution_count": 26,
   "metadata": {},
   "outputs": [],
   "source": [
    "#def tampilkan_genap(*daftar_angka):\n",
    "#    if daftar_angka == 0 or daftar_angka %2 != 0:\n",
    "#        pass\n",
    "#    elif daftar_angka %2 == 0:\n",
    "#        print(daftar_angka)\n",
    "\n",
    "def tampilkan_genap(*daftar_angka):\n",
    "    hasil = []\n",
    "    for i in daftar_angka:\n",
    "        if i == 0 or i %2 != 0:\n",
    "            pass\n",
    "        elif i %2 == 0: # or else: its also fine\n",
    "            hasil.append(i) #sama seperti += di whileloop, bisa pake itu jika diawal hasil = 0 tidak pake \"[]\"        \n",
    "    print(hasil)"
   ]
  },
  {
   "cell_type": "code",
   "execution_count": 32,
   "metadata": {},
   "outputs": [
    {
     "name": "stdout",
     "output_type": "stream",
     "text": [
      "2\n",
      "4\n",
      "6\n",
      "8\n"
     ]
    }
   ],
   "source": [
    "#able but wasting time!\n",
    "for i in (1,2,3,4,5,6,7,8):\n",
    "    if i == 0 or i %2 != 0:\n",
    "        pass\n",
    "    else:\n",
    "        print(i)"
   ]
  },
  {
   "cell_type": "code",
   "execution_count": 55,
   "metadata": {},
   "outputs": [],
   "source": [
    "import numpy as np\n",
    "variable = np.linspace(1,101, 100).tolist()\n",
    "#variable\n",
    "angka = [11,12,13,14,15,16,17,18,19,20,21,22,23,24,25,26,27,28,29]\n",
    "\n",
    "def tampil_30_sd_40(*angka):\n",
    "    hasil = []\n",
    "    for i in angka:\n",
    "        if 15 >= i <=20:\n",
    "            hasil.append(i)\n",
    "        else:\n",
    "            pass\n",
    "    print(tampil_30_sd_40)"
   ]
  },
  {
   "cell_type": "code",
   "execution_count": 58,
   "metadata": {},
   "outputs": [],
   "source": [
    "def tampilkan_negara(nama, negara = 'Indonesia'):\n",
    "    print(f' Halo {nama} dari {negara}')"
   ]
  },
  {
   "cell_type": "code",
   "execution_count": 59,
   "metadata": {},
   "outputs": [
    {
     "name": "stdout",
     "output_type": "stream",
     "text": [
      " Halo yunus dari negara api\n"
     ]
    }
   ],
   "source": [
    "tampilkan_negara(nama='yunus', negara='negara api')"
   ]
  },
  {
   "cell_type": "code",
   "execution_count": null,
   "metadata": {},
   "outputs": [],
   "source": [
    "def rumus_math(mode, bilangan_1, bilangan_2):\n",
    "    if mode.lower() == 'persegi': #\n",
    "        if bilangan_1 == 0 and bilangan_2 == 0:\n",
    "            print('harus ada angka')\n",
    "        elif bilangan_1 == 0:\n",
    "            print('Input harus ada bilangan_1')\n",
    "        elif bilangan_2 == 0:\n",
    "            luas = bilangan_1 * bilangan_2\n",
    "            print(luas)\n",
    "        else:\n",
    "            print()\n"
   ]
  },
  {
   "cell_type": "code",
   "execution_count": null,
   "metadata": {},
   "outputs": [],
   "source": [
    "def cetak_angka(posisi, *daftar_angka):\n",
    "    panjang_list = len(daftar_angka)\n",
    "    "
   ]
  },
  {
   "cell_type": "markdown",
   "metadata": {},
   "source": [
    "# MODULE"
   ]
  },
  {
   "cell_type": "code",
   "execution_count": 3,
   "metadata": {},
   "outputs": [
    {
     "ename": "ModuleNotFoundError",
     "evalue": "No module named 'mod'",
     "output_type": "error",
     "traceback": [
      "\u001b[0;31m---------------------------------------------------------------------------\u001b[0m",
      "\u001b[0;31mModuleNotFoundError\u001b[0m                       Traceback (most recent call last)",
      "Cell \u001b[0;32mIn[3], line 1\u001b[0m\n\u001b[0;32m----> 1\u001b[0m \u001b[38;5;28;01mimport\u001b[39;00m \u001b[38;5;21;01mmod\u001b[39;00m\n",
      "\u001b[0;31mModuleNotFoundError\u001b[0m: No module named 'mod'"
     ]
    }
   ],
   "source": [
    "import mod \n",
    "#m.a\n",
    "\n"
   ]
  },
  {
   "cell_type": "code",
   "execution_count": null,
   "metadata": {},
   "outputs": [],
   "source": []
  },
  {
   "cell_type": "code",
   "execution_count": null,
   "metadata": {},
   "outputs": [],
   "source": []
  },
  {
   "cell_type": "code",
   "execution_count": null,
   "metadata": {},
   "outputs": [],
   "source": []
  }
 ],
 "metadata": {
  "kernelspec": {
   "display_name": "Python 3",
   "language": "python",
   "name": "python3"
  },
  "language_info": {
   "codemirror_mode": {
    "name": "ipython",
    "version": 3
   },
   "file_extension": ".py",
   "mimetype": "text/x-python",
   "name": "python",
   "nbconvert_exporter": "python",
   "pygments_lexer": "ipython3",
   "version": "3.11.7"
  }
 },
 "nbformat": 4,
 "nbformat_minor": 2
}
